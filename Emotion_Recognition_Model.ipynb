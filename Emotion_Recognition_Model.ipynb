{
  "cells": [
    {
      "cell_type": "markdown",
      "metadata": {
        "id": "view-in-github",
        "colab_type": "text"
      },
      "source": [
        "<a href=\"https://colab.research.google.com/github/adenikeadewumi/Emotion-Recognition-Model/blob/main/Emotion_Recognition_Model.ipynb\" target=\"_parent\"><img src=\"https://colab.research.google.com/assets/colab-badge.svg\" alt=\"Open In Colab\"/></a>"
      ]
    },
    {
      "cell_type": "markdown",
      "metadata": {
        "id": "xxOCeU5nG4dF"
      },
      "source": [
        "Data Processing"
      ]
    },
    {
      "cell_type": "code",
      "execution_count": null,
      "metadata": {
        "colab": {
          "base_uri": "https://localhost:8080/"
        },
        "id": "pwflq4m7-nzv",
        "outputId": "856c565d-abce-4613-8840-630006dbc7be"
      },
      "outputs": [
        {
          "output_type": "stream",
          "name": "stdout",
          "text": [
            "Importation done\n"
          ]
        }
      ],
      "source": [
        "# Basic python libraries.\n",
        "import os\n",
        "import numpy as np\n",
        "import pandas as pd\n",
        "import seaborn as sns\n",
        "import matplotlib.pyplot as plt\n",
        "\n",
        "# Get rid of warnings!\n",
        "import warnings\n",
        "warnings.filterwarnings('ignore')\n",
        "\n",
        "#Deep learning libraries\n",
        "import torch\n",
        "import torch.nn as nn\n",
        "import torchvision\n",
        "import torch.nn.functional as F\n",
        "from torchvision import transforms\n",
        "from PIL import Image\n",
        "from torch.utils.data import DataLoader\n",
        "#import copy\n",
        "import cv2\n",
        "from typing import Tuple, Callable, Union, Any\n",
        "print(\"Importation done\")"
      ]
    },
    {
      "cell_type": "markdown",
      "metadata": {
        "id": "0NmB2ItJLLs6"
      },
      "source": [
        "Import the data\n"
      ]
    },
    {
      "cell_type": "code",
      "execution_count": null,
      "metadata": {
        "id": "ctorSOJGKNJj"
      },
      "outputs": [],
      "source": [
        "path= \"/content/archive (14).zip\""
      ]
    },
    {
      "cell_type": "code",
      "execution_count": null,
      "metadata": {
        "colab": {
          "base_uri": "https://localhost:8080/"
        },
        "id": "wy-UqGf3Lt40",
        "outputId": "77dd70a4-1f0f-45a4-9063-baa303aac241"
      },
      "outputs": [
        {
          "output_type": "stream",
          "name": "stdout",
          "text": [
            "Zip file extracted successfully\n"
          ]
        }
      ],
      "source": [
        "from zipfile import ZipFile\n",
        "with ZipFile(path , 'r') as ZipFile:\n",
        "  ZipFile.extractall()\n",
        "  print('Zip file extracted successfully')"
      ]
    },
    {
      "cell_type": "code",
      "execution_count": null,
      "metadata": {
        "id": "hhAxV-rxL69Q"
      },
      "outputs": [],
      "source": [
        "train_dir= \"/content/train\"\n",
        "test_dir= \"/content/test\"\n"
      ]
    },
    {
      "cell_type": "code",
      "execution_count": null,
      "metadata": {
        "colab": {
          "base_uri": "https://localhost:8080/"
        },
        "id": "27GeZ3rcMIU3",
        "outputId": "90011e9c-4bb1-4b61-8adc-a50e735afc21"
      },
      "outputs": [
        {
          "output_type": "stream",
          "name": "stdout",
          "text": [
            "['disgust', 'fear', 'angry', 'neutral', 'sad', 'happy', 'surprise']\n",
            "{0: 'disgust', 1: 'fear', 2: 'angry', 3: 'neutral', 4: 'sad', 5: 'happy', 6: 'surprise'}\n"
          ]
        }
      ],
      "source": [
        "emotions_categories= os.listdir(train_dir)\n",
        "print(emotions_categories)\n",
        "emotion_dict= {i: emotions_categories[i] for i in range(len(emotions_categories))}\n",
        "print(emotion_dict)"
      ]
    },
    {
      "cell_type": "markdown",
      "metadata": {
        "id": "00evVJIrTPeJ"
      },
      "source": [
        "Data Preprocessing"
      ]
    },
    {
      "cell_type": "markdown",
      "metadata": {
        "id": "L0vbMCd2MwtL"
      },
      "source": [
        "Visualize some of the data"
      ]
    },
    {
      "cell_type": "code",
      "execution_count": null,
      "metadata": {
        "colab": {
          "base_uri": "https://localhost:8080/",
          "height": 195
        },
        "id": "1ada84rTMN0c",
        "outputId": "309d1c66-2f00-40af-c3ad-3a546a85c05b"
      },
      "outputs": [
        {
          "output_type": "display_data",
          "data": {
            "text/plain": [
              "<Figure size 2000x2500 with 7 Axes>"
            ],
            "image/png": "[encoded data removed]"
          },
          "metadata": {}
        }
      ],
      "source": [
        "plt.figure(figsize=(20, 25))\n",
        "for emotion in emotions_categories:\n",
        "  img_path= os.path.join(train_dir, emotion)\n",
        "  img_path= os.path.join(img_path, os.listdir(img_path)[60])\n",
        "  img= cv2.imread(img_path)\n",
        "  img= cv2.cvtColor(img, cv2.COLOR_BGR2RGB)\n",
        "  plt.subplot(1,7, emotions_categories.index(emotion)+1)\n",
        "  plt.imshow(img)\n",
        "  plt.title(emotion)"
      ]
    },
    {
      "cell_type": "markdown",
      "source": [
        "Data Augmentation"
      ],
      "metadata": {
        "id": "zklM91ojX0ws"
      }
    },
    {
      "cell_type": "code",
      "execution_count": null,
      "metadata": {
        "id": "_c9TxsB22_Mq"
      },
      "outputs": [],
      "source": [
        "#Create a transform to apply to the test and train data\n",
        "transform = transforms.Compose([\n",
        "    transforms.RandomHorizontalFlip(),         # data augmentation\n",
        "    transforms.RandomRotation(10),             # data augmentation\n",
        "    transforms.ToTensor(),\n",
        "    transforms.Normalize(mean=[0.5], std=[0.5]) # normalize to [-1, 1]\n",
        "])"
      ]
    },
    {
      "cell_type": "code",
      "execution_count": null,
      "metadata": {
        "colab": {
          "base_uri": "https://localhost:8080/"
        },
        "id": "3eEI86vM27eu",
        "outputId": "58a48ca2-4dd7-40b1-8201-e8e15d24fc9b"
      },
      "outputs": [
        {
          "output_type": "stream",
          "name": "stdout",
          "text": [
            "torch.Size([3, 48, 48])\n"
          ]
        }
      ],
      "source": [
        "#Load the train and test data\n",
        "train_data= torchvision.datasets.ImageFolder(root= train_dir, transform= transform)\n",
        "test_data= torchvision.datasets.ImageFolder(root= test_dir, transform= transform)\n",
        "img, label = train_data[0]  # Get first image and its label\n",
        "print(img.shape)"
      ]
    },
    {
      "cell_type": "markdown",
      "source": [
        "WeightRandomSampler"
      ],
      "metadata": {
        "id": "mRLyssWWYJGy"
      }
    },
    {
      "cell_type": "code",
      "execution_count": null,
      "metadata": {
        "id": "guQWnoxBasDM"
      },
      "outputs": [],
      "source": [
        "from torch.utils.data import WeightedRandomSampler\n",
        "import numpy as np\n",
        "from collections import Counter\n",
        "\n",
        "# Get all targets (labels) from train_data\n",
        "targets = [label for _, label in train_data]\n",
        "\n",
        "# Count class occurrences\n",
        "class_counts = Counter(targets)\n",
        "num_samples = len(targets)\n",
        "\n",
        "# Compute weights for each class: inversely proportional to frequency\n",
        "class_weights = {cls: 1.0 / count for cls, count in class_counts.items()}\n",
        "\n",
        "# Assign a weight to each sample based on its class\n",
        "sample_weights = [class_weights[label] for label in targets]\n",
        "\n",
        "# Create the sampler\n",
        "sampler = WeightedRandomSampler(weights=sample_weights, num_samples=len(sample_weights), replacement=True)\n"
      ]
    },
    {
      "cell_type": "code",
      "execution_count": null,
      "metadata": {
        "id": "r1-gRflSh8OX"
      },
      "outputs": [],
      "source": [
        "# Create train and test loader and apply sampler to the train to prevent undersampling of less data classes\n",
        "train_loader= DataLoader(train_data, batch_size= 32, sampler= sampler)\n",
        "test_loader= DataLoader(test_data, batch_size= 32, shuffle= False)"
      ]
    },
    {
      "cell_type": "code",
      "execution_count": null,
      "metadata": {
        "colab": {
          "base_uri": "https://localhost:8080/"
        },
        "id": "NsTzU-Ae5xXP",
        "outputId": "d4e4bd36-7dd4-4a9a-913d-457708c8d0e6"
      },
      "outputs": [
        {
          "output_type": "stream",
          "name": "stdout",
          "text": [
            "tensor([1, 3, 2, 0, 6, 6, 0, 3, 0, 1, 0, 1, 5, 4, 0, 2, 4, 1, 6, 2, 1, 3, 3, 2,\n",
            "        2, 1, 4, 5, 3, 4, 3, 2])\n"
          ]
        }
      ],
      "source": [
        "for images, labels in train_loader:\n",
        "  print(labels)\n",
        "  break"
      ]
    },
    {
      "cell_type": "markdown",
      "metadata": {
        "id": "M8870wATObfp"
      },
      "source": [
        "Create the model"
      ]
    },
    {
      "cell_type": "code",
      "execution_count": null,
      "metadata": {
        "colab": {
          "base_uri": "https://localhost:8080/"
        },
        "id": "SEudTY3jVE_7",
        "outputId": "46c6c71d-46e9-4755-d35d-efa2f3d5a63a"
      },
      "outputs": [
        {
          "output_type": "stream",
          "name": "stdout",
          "text": [
            "Model(\n",
            "  (relu): ReLU()\n",
            "  (maxpool): MaxPool2d(kernel_size=2, stride=2, padding=0, dilation=1, ceil_mode=False)\n",
            "  (dropout): Dropout(p=0.2, inplace=False)\n",
            "  (conv1): Conv2d(3, 64, kernel_size=(3, 3), stride=(1, 1), padding=(1, 1))\n",
            "  (bn1): BatchNorm2d(64, eps=1e-05, momentum=0.1, affine=True, track_running_stats=True)\n",
            "  (conv2): Conv2d(64, 128, kernel_size=(3, 3), stride=(1, 1), padding=(1, 1))\n",
            "  (bn2): BatchNorm2d(128, eps=1e-05, momentum=0.1, affine=True, track_running_stats=True)\n",
            "  (conv3): Conv2d(128, 256, kernel_size=(3, 3), stride=(1, 1), padding=(1, 1))\n",
            "  (bn3): BatchNorm2d(256, eps=1e-05, momentum=0.1, affine=True, track_running_stats=True)\n",
            "  (fc1): Linear(in_features=9216, out_features=1024, bias=True)\n",
            "  (fc2): Linear(in_features=1024, out_features=7, bias=True)\n",
            ")\n"
          ]
        }
      ],
      "source": [
        "import torch\n",
        "import torch.nn as nn\n",
        "\n",
        "class Model(nn.Module):\n",
        "    def __init__(self):\n",
        "        super(Model, self).__init__()\n",
        "\n",
        "        # Activation and maxpool layers\n",
        "        self.relu = nn.ReLU()\n",
        "        self.maxpool = nn.MaxPool2d(kernel_size=2, stride=2)\n",
        "        self.dropout = nn.Dropout(0.2)\n",
        "\n",
        "        # First Convolutional Layer\n",
        "        self.conv1 = nn.Conv2d(in_channels=3, out_channels=64, kernel_size=3, stride=1, padding=1)\n",
        "        self.bn1 = nn.BatchNorm2d(64)\n",
        "\n",
        "        # Second Convolutional Layer\n",
        "        self.conv2 = nn.Conv2d(in_channels=64, out_channels=128, kernel_size=3, stride=1, padding=1)\n",
        "        self.bn2 = nn.BatchNorm2d(128)\n",
        "\n",
        "        # Third Convolutional Layer\n",
        "        self.conv3 = nn.Conv2d(in_channels=128, out_channels=256, kernel_size=3, stride=1, padding=1)\n",
        "        self.bn3 = nn.BatchNorm2d(256)\n",
        "\n",
        "        # Fully Connected Layer\n",
        "        # After applying 3 convolutional layers and 3 pooling layers on a 48x48 image,\n",
        "        # The final output shape will be [256, 6, 6].\n",
        "        self.fc1 = nn.Linear(256 * 6 * 6, 1024)\n",
        "\n",
        "        # Optional output layer for classification\n",
        "        self.fc2 = nn.Linear(1024, 7)  # Assuming 7 output classes\n",
        "\n",
        "    def forward(self, x):\n",
        "        # First convolutional block\n",
        "        x = self.conv1(x)\n",
        "        x = self.bn1(x)\n",
        "        x = self.relu(x)\n",
        "        x = self.maxpool(x)\n",
        "        x = self.dropout(x)\n",
        "\n",
        "        # Second convolutional block\n",
        "        x = self.conv2(x)\n",
        "        x = self.bn2(x)\n",
        "        x = self.relu(x)\n",
        "        x = self.maxpool(x)\n",
        "        x = self.dropout(x)\n",
        "\n",
        "        # Third convolutional block\n",
        "        x = self.conv3(x)\n",
        "        x = self.bn3(x)\n",
        "        x = self.relu(x)\n",
        "        x = self.maxpool(x)\n",
        "        x = self.dropout(x)\n",
        "\n",
        "        # Flatten the tensor for fully connected layer\n",
        "        x = x.view(x.size(0), -1)\n",
        "\n",
        "        # First fully connected layer\n",
        "        x = self.fc1(x)\n",
        "        x = self.relu(x)\n",
        "        x = self.dropout(x)\n",
        "\n",
        "        # Optional output layer for classification\n",
        "        x = self.fc2(x)\n",
        "\n",
        "\n",
        "        return x\n",
        "\n",
        "# Example of how you would create and use this model\n",
        "# Example of how you would create and use this model\n",
        "simplified_model = Model()\n",
        "print(simplified_model)"
      ]
    },
    {
      "cell_type": "markdown",
      "metadata": {
        "id": "ztGuy3HPhajJ"
      },
      "source": [
        "Train Model"
      ]
    },
    {
      "cell_type": "code",
      "execution_count": null,
      "metadata": {
        "id": "4IBBIqdbY8yn"
      },
      "outputs": [],
      "source": [
        "#set training parameters\n",
        "learning_rate= 1e-4\n",
        "EPOCHS= 10\n",
        "criterion= nn.CrossEntropyLoss()\n",
        "optimizer= torch.optim.Adam(simplified_model.parameters(), lr= learning_rate)"
      ]
    },
    {
      "cell_type": "code",
      "source": [
        "for epoch in range(EPOCHS):\n",
        "  for i, data in enumerate(train_loader):\n",
        "    # Unpack data to get the inputs for the model and their corresponding labels\n",
        "    inputs, labels= data\n",
        "    #Get model's prediction\n",
        "    outputs= simplified_model(inputs)\n",
        "\n",
        "    #Compute the loss\n",
        "    loss= criterion(outputs, labels)\n",
        "\n",
        "    # Set gradients to xeor\n",
        "    optimizer.zero_grad()\n",
        "\n",
        "    # Use loss cost to update the weight parameters\n",
        "    loss.backward()\n",
        "\n",
        "    optimizer.step()\n",
        "    if i % 100 == 99:\n",
        "      print('Epoch [{}/{}], batch {}, Loss: {:.4f}'.format(epoch+1, EPOCHS, i+1, loss.item()))\n"
      ],
      "metadata": {
        "colab": {
          "base_uri": "https://localhost:8080/"
        },
        "id": "4pFSGnuBY7QM",
        "outputId": "acbba6a3-0f85-4fde-eef7-b3c0d8b75633"
      },
      "execution_count": null,
      "outputs": [
        {
          "output_type": "stream",
          "name": "stdout",
          "text": [
            "Epoch [1/10], batch 100, Loss: 1.9099\n",
            "Epoch [1/10], batch 200, Loss: 1.7214\n",
            "Epoch [1/10], batch 300, Loss: 1.7688\n",
            "Epoch [1/10], batch 400, Loss: 1.9610\n",
            "Epoch [1/10], batch 500, Loss: 1.9276\n",
            "Epoch [1/10], batch 600, Loss: 1.7783\n",
            "Epoch [1/10], batch 700, Loss: 1.7186\n",
            "Epoch [1/10], batch 800, Loss: 1.9242\n",
            "Epoch [2/10], batch 100, Loss: 1.8003\n",
            "Epoch [2/10], batch 200, Loss: 1.4751\n",
            "Epoch [2/10], batch 300, Loss: 1.5645\n",
            "Epoch [2/10], batch 400, Loss: 1.6691\n",
            "Epoch [2/10], batch 500, Loss: 1.7006\n",
            "Epoch [2/10], batch 600, Loss: 1.7782\n",
            "Epoch [2/10], batch 700, Loss: 1.6332\n",
            "Epoch [2/10], batch 800, Loss: 1.1191\n",
            "Epoch [3/10], batch 100, Loss: 1.7093\n",
            "Epoch [3/10], batch 200, Loss: 1.5729\n",
            "Epoch [3/10], batch 300, Loss: 1.4041\n",
            "Epoch [3/10], batch 400, Loss: 1.3583\n",
            "Epoch [3/10], batch 500, Loss: 1.2661\n",
            "Epoch [3/10], batch 600, Loss: 1.5064\n",
            "Epoch [3/10], batch 700, Loss: 1.3147\n",
            "Epoch [3/10], batch 800, Loss: 1.4401\n",
            "Epoch [4/10], batch 100, Loss: 1.2566\n",
            "Epoch [4/10], batch 200, Loss: 1.4428\n",
            "Epoch [4/10], batch 300, Loss: 1.5695\n",
            "Epoch [4/10], batch 400, Loss: 1.3105\n",
            "Epoch [4/10], batch 500, Loss: 1.2541\n",
            "Epoch [4/10], batch 600, Loss: 1.6805\n",
            "Epoch [4/10], batch 700, Loss: 1.0721\n",
            "Epoch [4/10], batch 800, Loss: 1.2203\n",
            "Epoch [5/10], batch 100, Loss: 1.4949\n",
            "Epoch [5/10], batch 200, Loss: 1.2169\n",
            "Epoch [5/10], batch 300, Loss: 1.1051\n",
            "Epoch [5/10], batch 400, Loss: 1.3309\n",
            "Epoch [5/10], batch 500, Loss: 1.1377\n",
            "Epoch [5/10], batch 600, Loss: 1.7243\n",
            "Epoch [5/10], batch 700, Loss: 1.0419\n",
            "Epoch [5/10], batch 800, Loss: 1.1615\n",
            "Epoch [6/10], batch 100, Loss: 1.1047\n",
            "Epoch [6/10], batch 200, Loss: 1.3180\n",
            "Epoch [6/10], batch 300, Loss: 1.2548\n",
            "Epoch [6/10], batch 400, Loss: 1.5504\n",
            "Epoch [6/10], batch 500, Loss: 1.1724\n",
            "Epoch [6/10], batch 600, Loss: 1.4789\n",
            "Epoch [6/10], batch 700, Loss: 1.3987\n",
            "Epoch [6/10], batch 800, Loss: 1.1372\n",
            "Epoch [7/10], batch 100, Loss: 1.1348\n",
            "Epoch [7/10], batch 200, Loss: 1.0376\n",
            "Epoch [7/10], batch 300, Loss: 1.1106\n",
            "Epoch [7/10], batch 400, Loss: 1.1912\n",
            "Epoch [7/10], batch 500, Loss: 1.0948\n",
            "Epoch [7/10], batch 600, Loss: 1.2355\n",
            "Epoch [7/10], batch 700, Loss: 1.3211\n",
            "Epoch [7/10], batch 800, Loss: 1.3641\n",
            "Epoch [8/10], batch 100, Loss: 1.0801\n",
            "Epoch [8/10], batch 200, Loss: 1.2526\n",
            "Epoch [8/10], batch 300, Loss: 0.8370\n",
            "Epoch [8/10], batch 400, Loss: 1.3891\n",
            "Epoch [8/10], batch 500, Loss: 1.1068\n",
            "Epoch [8/10], batch 600, Loss: 1.4705\n",
            "Epoch [8/10], batch 700, Loss: 1.2169\n",
            "Epoch [8/10], batch 800, Loss: 0.9975\n",
            "Epoch [9/10], batch 100, Loss: 1.1645\n",
            "Epoch [9/10], batch 200, Loss: 1.0051\n",
            "Epoch [9/10], batch 300, Loss: 1.4455\n",
            "Epoch [9/10], batch 400, Loss: 1.1093\n",
            "Epoch [9/10], batch 500, Loss: 1.1858\n",
            "Epoch [9/10], batch 600, Loss: 0.9891\n",
            "Epoch [9/10], batch 700, Loss: 1.2170\n",
            "Epoch [9/10], batch 800, Loss: 1.1116\n",
            "Epoch [10/10], batch 100, Loss: 1.1950\n",
            "Epoch [10/10], batch 200, Loss: 1.3069\n",
            "Epoch [10/10], batch 300, Loss: 1.0725\n",
            "Epoch [10/10], batch 400, Loss: 1.4842\n",
            "Epoch [10/10], batch 500, Loss: 1.5178\n",
            "Epoch [10/10], batch 600, Loss: 0.8876\n",
            "Epoch [10/10], batch 700, Loss: 1.0303\n",
            "Epoch [10/10], batch 800, Loss: 1.5382\n"
          ]
        }
      ]
    },
    {
      "cell_type": "code",
      "source": [
        "torch.save(simplified_model.state_dict(), 'model_weights.pth')"
      ],
      "metadata": {
        "id": "Ah0IkNTbuSYo"
      },
      "execution_count": null,
      "outputs": []
    },
    {
      "cell_type": "code",
      "source": [
        "with torch.no_grad():\n",
        "    correct = 0\n",
        "    total = 0\n",
        "    for images, labels in test_loader:\n",
        "        outputs = simplified_model(images)\n",
        "        _, predicted = torch.max(outputs.data, 1)\n",
        "        total += labels.size(0)\n",
        "        correct += (predicted == labels).sum().item()\n",
        "\n",
        "    print('Accuracy of the network on the test images: {} %'.format(100 * correct / total))"
      ],
      "metadata": {
        "colab": {
          "base_uri": "https://localhost:8080/"
        },
        "id": "ss-f-5mFcufK",
        "outputId": "288b325e-e667-48f7-808d-a1d9efe10d16"
      },
      "execution_count": null,
      "outputs": [
        {
          "output_type": "stream",
          "name": "stdout",
          "text": [
            "Accuracy of the network on the 50000 train images: 46.628587350236835 %\n"
          ]
        }
      ]
    },
    {
      "cell_type": "code",
      "execution_count": null,
      "metadata": {
        "id": "2AlcyiY1C61W",
        "colab": {
          "base_uri": "https://localhost:8080/"
        },
        "outputId": "f6764c29-bb63-417a-ca8a-468983e1bcc2"
      },
      "outputs": [
        {
          "output_type": "stream",
          "name": "stdout",
          "text": [
            "Accuracy on test data: 46.68%\n",
            "              precision    recall  f1-score   support\n",
            "\n",
            "           0       0.41      0.22      0.28       958\n",
            "           1       0.10      0.78      0.19       111\n",
            "           2       0.37      0.15      0.22      1024\n",
            "           3       0.71      0.69      0.70      1774\n",
            "           4       0.50      0.39      0.44      1233\n",
            "           5       0.35      0.47      0.41      1247\n",
            "           6       0.57      0.73      0.64       831\n",
            "\n",
            "    accuracy                           0.47      7178\n",
            "   macro avg       0.43      0.49      0.41      7178\n",
            "weighted avg       0.50      0.47      0.46      7178\n",
            "\n"
          ]
        }
      ],
      "source": [
        "\n",
        "from sklearn.metrics import classification_report\n",
        "\n",
        "# Set the model to evaluation mode\n",
        "simplified_model.eval()\n",
        "\n",
        "# Initialize lists to hold predictions and true labels\n",
        "predictions = []\n",
        "true_labels = []\n",
        "\n",
        "# Function to show the image\n",
        "def imshow(img):\n",
        "    # Denormalize if necessary (if you applied normalization during training)\n",
        "    img = img / 2 + 0.5  # Unnormalize if the input images were normalized to [-1, 1]\n",
        "    npimg = img.numpy()\n",
        "    plt.imshow(np.transpose(npimg, (1, 2, 0)))  # Convert from Tensor image to numpy array\n",
        "    plt.show()\n",
        "\n",
        "# Make predictions on the test set\n",
        "with torch.no_grad():\n",
        "    total= 0\n",
        "    correct= 0\n",
        "    for inputs, labels in test_loader:\n",
        "        outputs = simplified_model(inputs)\n",
        "        _, predicted = torch.max(outputs, 1)\n",
        "        total += labels.size(0)\n",
        "        correct += (predicted == labels).sum().item()\n",
        "\n",
        "        # Collect predictions and true labels\n",
        "        predictions.extend(predicted.cpu().numpy())\n",
        "        true_labels.extend(labels.cpu().numpy())\n",
        "\n",
        "        # Display the first image in the batch with its label and prediction\n",
        "        # Assuming the test_loader batch size is at least 1\n",
        "        #imshow(inputs[0])  # Show the first image in the batch\n",
        "        #print(f'Predicted label: {predicted[0].item()}')  # Display the predicted label\n",
        "        #print(f'Original label: {labels[0].item()}')  # Display the true label\n",
        "\n",
        "# Convert predictions and true labels to numpy arrays for evaluation\n",
        "predictions = np.array(predictions)\n",
        "true_labels = np.array(true_labels)\n",
        "\n",
        "# Calculate and display accuracy\n",
        "accuracy = np.mean(predictions == true_labels)\n",
        "print(f'Accuracy on test data: {accuracy * 100:.2f}%')\n",
        "\n",
        "# Optional: Print a classification report\n",
        "print(classification_report(true_labels, predictions))\n"
      ]
    },
    {
      "cell_type": "markdown",
      "metadata": {
        "id": "aDTijrdWxkLB"
      },
      "source": [
        "Use model to predict emotioms in real- life"
      ]
    },
    {
      "cell_type": "code",
      "execution_count": null,
      "metadata": {
        "id": "xFKq_4hW7W0r"
      },
      "outputs": [],
      "source": [
        "#Get video from camera in realtime\n",
        "cap= cv2.VideoCapture(0)\n",
        "while True:\n",
        "  ret, frame= cap.read()\n",
        "  if not ret:\n",
        "    break\n",
        "\n",
        "  face_cascade = cv2.CascadeClassifier(cv2.data.haarcascades + 'haarcascade_frontalface_default.xml')\n",
        "\n",
        "  img_gray= cv2.cvtClor(frame, cv2.COLOR_BGR2GRAY)\n",
        "  faces= face_cascade.detectMultiScale(img_gray, 1.3, 5)\n",
        "  for (x, y, w, h) in faces:\n",
        "    face= img_gray[y:y+h, x:x+w]\n",
        "    face= cv2.resize(face, (48, 48))\n",
        "    face= face/255.0\n",
        "    reshaped_face= np.reshape(face, (1, 48, 48, 1))\n",
        "    prediction= simplified_model.predict(reshaped_face)\n",
        "    emotion_id= np.argmax(prediction)\n",
        "    emotion= emotion_dict[emotion_id]\n",
        "\n",
        "    cv2.rectangle(frame, (x, y), (x+w, y+h), (0, 255, 0), 2)\n",
        "    cv2.putText(frame, emotion, (x, y-10), cv2.FONT_HERSHEY_SIMPLEX, 0.9, (0, 255, 0), 2)\n",
        "\n",
        "\n"
      ]
    },
    {
      "cell_type": "code",
      "execution_count": null,
      "metadata": {
        "id": "N33nHfIm2lay"
      },
      "outputs": [],
      "source": [
        "def train_one_epoch(epoch_index, tb_writer):\n",
        "    running_loss = 0.\n",
        "    last_loss = 0.\n",
        "\n",
        "    # Here, we use enumerate(training_loader) instead of\n",
        "    # iter(training_loader) so that we can track the batch\n",
        "    # index and do some intra-epoch reporting\n",
        "    for i, data in enumerate(train_loader):\n",
        "        # Every data instance is an input + label pair\n",
        "        inputs, labels = data\n",
        "\n",
        "        # Zero your gradients for every batch!\n",
        "        optimizer.zero_grad()\n",
        "\n",
        "        # Make predictions for this batch\n",
        "        outputs = simplified_model(inputs)\n",
        "\n",
        "        # Compute the loss and its gradients\n",
        "        loss = criterion(outputs, labels)\n",
        "        loss.backward()\n",
        "\n",
        "        # Adjust learning weights\n",
        "        optimizer.step()\n",
        "\n",
        "        # Gather data and report\n",
        "        running_loss += loss.item()\n",
        "        if i % 100 == 99:\n",
        "            last_loss = running_loss / 100 # loss per batch\n",
        "            print('  batch {} loss: {}'.format(i + 1, last_loss))\n",
        "            tb_x = epoch_index * len(train_loader) + i + 1\n",
        "            tb_writer.add_scalar('Loss/train', last_loss, tb_x)\n",
        "            running_loss = 0.\n",
        "\n",
        "    return last_loss"
      ]
    },
    {
      "cell_type": "code",
      "execution_count": null,
      "metadata": {
        "colab": {
          "base_uri": "https://localhost:8080/"
        },
        "id": "mDbxD2SQ63Gj",
        "outputId": "575d6654-04af-4996-b5f6-2a3134eb19fc"
      },
      "outputs": [
        {
          "output_type": "stream",
          "name": "stdout",
          "text": [
            "EPOCH 1:\n",
            "  batch 100 loss: 2.001917380094528\n",
            "  batch 200 loss: 1.9948225843906402\n",
            "  batch 300 loss: 2.0017854154109953\n",
            "  batch 400 loss: 1.9934239196777344\n",
            "  batch 500 loss: 1.9991257405281067\n",
            "  batch 600 loss: 2.0008003199100495\n",
            "  batch 700 loss: 1.9986283493041992\n",
            "  batch 800 loss: 1.9951574671268464\n",
            "LOSS train 1.9951574671268464 valid 1.9727225303649902\n",
            "EPOCH 2:\n",
            "  batch 100 loss: 2.0129326188564303\n",
            "  batch 200 loss: 1.9911503577232361\n",
            "  batch 300 loss: 1.9896529340744018\n",
            "  batch 400 loss: 2.002598307132721\n",
            "  batch 500 loss: 2.0067956042289734\n",
            "  batch 600 loss: 2.0013605427742003\n",
            "  batch 700 loss: 1.9981508612632752\n",
            "  batch 800 loss: 2.001386433839798\n",
            "LOSS train 2.001386433839798 valid 1.9782801866531372\n",
            "EPOCH 3:\n",
            "  batch 100 loss: 2.0028175020217898\n",
            "  batch 200 loss: 2.000077929496765\n",
            "  batch 300 loss: 1.9924782526493072\n",
            "  batch 400 loss: 1.9949757385253906\n",
            "  batch 500 loss: 1.9870890164375306\n",
            "  batch 600 loss: 2.0019154739379883\n",
            "  batch 700 loss: 1.99930300116539\n",
            "  batch 800 loss: 2.0038678777217864\n",
            "LOSS train 2.0038678777217864 valid 1.9828202724456787\n",
            "EPOCH 4:\n",
            "  batch 100 loss: 2.0013860380649566\n",
            "  batch 200 loss: 1.9936024379730224\n",
            "  batch 300 loss: 1.9936569380760192\n",
            "  batch 400 loss: 1.9923676788806914\n",
            "  batch 500 loss: 2.0041804099082947\n",
            "  batch 600 loss: 2.006666125059128\n",
            "  batch 700 loss: 1.9986530244350433\n",
            "  batch 800 loss: 1.996399735212326\n",
            "LOSS train 1.996399735212326 valid 1.978028655052185\n",
            "EPOCH 5:\n",
            "  batch 100 loss: 2.0112075674533845\n",
            "  batch 200 loss: 1.9955957186222077\n",
            "  batch 300 loss: 2.0037336456775665\n",
            "  batch 400 loss: 2.001860918998718\n",
            "  batch 500 loss: 1.9984418880939483\n",
            "  batch 600 loss: 1.9942176687717437\n",
            "  batch 700 loss: 1.9981012082099914\n",
            "  batch 800 loss: 2.011138380765915\n",
            "LOSS train 2.011138380765915 valid 1.9793347120285034\n"
          ]
        }
      ],
      "source": [
        "# Initializing in a separate cell so we can easily add more epochs to the same run\n",
        "# PyTorch TensorBoard support\n",
        "from torch.utils.tensorboard import SummaryWriter\n",
        "from datetime import datetime\n",
        "timestamp = datetime.now().strftime('%Y%m%d_%H%M%S')\n",
        "writer = SummaryWriter('runs/emotion_trainer_{}'.format(timestamp))\n",
        "epoch_number = 0\n",
        "\n",
        "best_vloss = 1_000_000.\n",
        "\n",
        "for epoch in range(EPOCHS):\n",
        "    print('EPOCH {}:'.format(epoch_number + 1))\n",
        "\n",
        "    # Make sure gradient tracking is on, and do a pass over the data\n",
        "    simplified_model.train(True)\n",
        "    avg_loss = train_one_epoch(epoch_number, writer)\n",
        "\n",
        "\n",
        "    running_vloss = 0.0\n",
        "    # Set the model to evaluation mode, disabling dropout and using population\n",
        "    # statistics for batch normalization.\n",
        "    simplified_model.eval()\n",
        "\n",
        "    # Disable gradient computation and reduce memory consumption.\n",
        "    with torch.no_grad():\n",
        "        for i, vdata in enumerate(test_loader):\n",
        "            vinputs, vlabels = vdata\n",
        "            voutputs = model(vinputs)\n",
        "            vloss = loss_fn(voutputs, vlabels)\n",
        "            running_vloss += vloss\n",
        "\n",
        "    avg_vloss = running_vloss / (i + 1)\n",
        "    print('LOSS train {} valid {}'.format(avg_loss, avg_vloss))\n",
        "\n",
        "    # Log the running loss averaged per batch\n",
        "    # for both training and validation\n",
        "    writer.add_scalars('Training vs. Test Loss',\n",
        "                    { 'Training' : avg_loss, 'Test' : avg_vloss },\n",
        "                    epoch_number + 1)\n",
        "    writer.flush()\n",
        "\n",
        "\n",
        "    #print('Accuracy : {} %'.format(100 * correct / total))\n",
        "\n",
        "    # Track best performance, and save the model's state\n",
        "    if avg_vloss < best_vloss:\n",
        "        best_vloss = avg_vloss\n",
        "        model_path = 'model_{}_{}'.format(timestamp, epoch_number)\n",
        "        torch.save(model.state_dict(), model_path)\n",
        "\n",
        "    epoch_number += 1"
      ]
    },
    {
      "cell_type": "code",
      "execution_count": null,
      "metadata": {
        "id": "Z__pEf9Gcbl4"
      },
      "outputs": [],
      "source": [
        "import torch\n",
        "import torch.nn as nn\n",
        "\n",
        "class SimplifiedModel(nn.Module):\n",
        "    def __init__(self):\n",
        "        super(SimplifiedModel, self).__init__()\n",
        "\n",
        "        # Activation and maxpool layers\n",
        "        self.relu = nn.ReLU()\n",
        "        self.maxpool = nn.MaxPool2d(kernel_size=2, stride=2)\n",
        "        self.dropout = nn.Dropout(0.2)\n",
        "\n",
        "        # First Convolutional Layer\n",
        "        self.conv1 = nn.Conv2d(in_channels=3, out_channels=32, kernel_size=3, stride=1, padding=1)\n",
        "        self.bn1 = nn.BatchNorm2d(32)\n",
        "\n",
        "        # Second Convolutional Layer\n",
        "        self.conv2 = nn.Conv2d(in_channels=32, out_channels=64, kernel_size=3, stride=1, padding=1)\n",
        "        self.bn2 = nn.BatchNorm2d(64)\n",
        "\n",
        "        # Third Convolutional Layer\n",
        "        self.conv3 = nn.Conv2d(in_channels=64, out_channels=128, kernel_size=3, stride=1, padding=1)\n",
        "        self.bn3 = nn.BatchNorm2d(128)\n",
        "\n",
        "        # Fully Connected Layer\n",
        "        # After applying 3 convolutional layers and 3 pooling layers on a 48x48 image,\n",
        "        # The final output shape will be [128, 6, 6].\n",
        "        self.fc1 = nn.Linear(128 * 6 * 6, 512)  # Reduced FC size\n",
        "\n",
        "        # Output layer for classification\n",
        "        self.fc2 = nn.Linear(512, 7)  # 7 output classes\n",
        "\n",
        "    def forward(self, x):\n",
        "        # First convolutional block\n",
        "        x = self.conv1(x)\n",
        "        x = self.bn1(x)\n",
        "        x = self.relu(x)\n",
        "        x = self.maxpool(x)\n",
        "        x = self.dropout(x)\n",
        "\n",
        "        # Second convolutional block\n",
        "        x = self.conv2(x)\n",
        "        x = self.bn2(x)\n",
        "        x = self.relu(x)\n",
        "        x = self.maxpool(x)\n",
        "        x = self.dropout(x)\n",
        "\n",
        "        # Third convolutional block\n",
        "        x = self.conv3(x)\n",
        "        x = self.bn3(x)\n",
        "        x = self.relu(x)\n",
        "        x = self.maxpool(x)\n",
        "        x = self.dropout(x)\n",
        "\n",
        "        # Flatten the tensor for fully connected layer\n",
        "        x = x.view(x.size(0), -1)\n",
        "\n",
        "        # First fully connected layer\n",
        "        x = self.fc1(x)\n",
        "        x = self.relu(x)\n",
        "        x = self.dropout(x)\n",
        "\n",
        "        # Output layer for classification\n",
        "        x = self.fc2(x)\n",
        "\n",
        "        return x\n",
        "\n",
        "# Example of how you would create and use this model\n",
        "simplified_model = SimplifiedModel()\n"
      ]
    },
    {
      "cell_type": "code",
      "source": [],
      "metadata": {
        "id": "xDDThuFMfk1K"
      },
      "execution_count": null,
      "outputs": []
    }
  ],
  "metadata": {
    "accelerator": "GPU",
    "colab": {
      "gpuType": "T4",
      "provenance": [],
      "authorship_tag": "ABX9TyMhUfTozRK9sSrnCtjJvGqZ",
      "include_colab_link": true
    },
    "kernelspec": {
      "display_name": "Python 3",
      "name": "python3"
    },
    "language_info": {
      "name": "python"
    }
  },
  "nbformat": 4,
  "nbformat_minor": 0
}